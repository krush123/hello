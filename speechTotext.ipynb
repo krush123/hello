{
 "cells": [
  {
   "cell_type": "code",
   "execution_count": 38,
   "metadata": {
    "collapsed": false
   },
   "outputs": [
    {
     "ename": "ModuleNotFoundError",
     "evalue": "No module named 'drivers'",
     "output_type": "error",
     "traceback": [
      "\u001b[0;31m---------------------------------------------------------------------------\u001b[0m",
      "\u001b[0;31mKeyError\u001b[0m                                  Traceback (most recent call last)",
      "\u001b[0;32mC:\\Users\\ADMIN\\Anaconda3\\lib\\site-packages\\pyttsx\\__init__.py\u001b[0m in \u001b[0;36minit\u001b[0;34m(driverName, debug)\u001b[0m\n\u001b[1;32m     36\u001b[0m     \u001b[1;32mtry\u001b[0m\u001b[1;33m:\u001b[0m\u001b[1;33m\u001b[0m\u001b[0m\n\u001b[0;32m---> 37\u001b[0;31m         \u001b[0meng\u001b[0m \u001b[1;33m=\u001b[0m \u001b[0m_activeEngines\u001b[0m\u001b[1;33m[\u001b[0m\u001b[0mdriverName\u001b[0m\u001b[1;33m]\u001b[0m\u001b[1;33m\u001b[0m\u001b[0m\n\u001b[0m\u001b[1;32m     38\u001b[0m     \u001b[1;32mexcept\u001b[0m \u001b[0mKeyError\u001b[0m\u001b[1;33m:\u001b[0m\u001b[1;33m\u001b[0m\u001b[0m\n",
      "\u001b[0;32mC:\\Users\\ADMIN\\Anaconda3\\lib\\weakref.py\u001b[0m in \u001b[0;36m__getitem__\u001b[0;34m(self, key)\u001b[0m\n\u001b[1;32m    130\u001b[0m     \u001b[1;32mdef\u001b[0m \u001b[0m__getitem__\u001b[0m\u001b[1;33m(\u001b[0m\u001b[0mself\u001b[0m\u001b[1;33m,\u001b[0m \u001b[0mkey\u001b[0m\u001b[1;33m)\u001b[0m\u001b[1;33m:\u001b[0m\u001b[1;33m\u001b[0m\u001b[0m\n\u001b[0;32m--> 131\u001b[0;31m         \u001b[0mo\u001b[0m \u001b[1;33m=\u001b[0m \u001b[0mself\u001b[0m\u001b[1;33m.\u001b[0m\u001b[0mdata\u001b[0m\u001b[1;33m[\u001b[0m\u001b[0mkey\u001b[0m\u001b[1;33m]\u001b[0m\u001b[1;33m(\u001b[0m\u001b[1;33m)\u001b[0m\u001b[1;33m\u001b[0m\u001b[0m\n\u001b[0m\u001b[1;32m    132\u001b[0m         \u001b[1;32mif\u001b[0m \u001b[0mo\u001b[0m \u001b[1;32mis\u001b[0m \u001b[1;32mNone\u001b[0m\u001b[1;33m:\u001b[0m\u001b[1;33m\u001b[0m\u001b[0m\n",
      "\u001b[0;31mKeyError\u001b[0m: None",
      "\nDuring handling of the above exception, another exception occurred:\n",
      "\u001b[0;31mModuleNotFoundError\u001b[0m                       Traceback (most recent call last)",
      "\u001b[0;32m<ipython-input-38-e46f53729799>\u001b[0m in \u001b[0;36m<module>\u001b[0;34m()\u001b[0m\n\u001b[0;32m----> 1\u001b[0;31m \u001b[0mengine\u001b[0m \u001b[1;33m=\u001b[0m \u001b[0mpyttsx\u001b[0m\u001b[1;33m.\u001b[0m\u001b[0minit\u001b[0m\u001b[1;33m(\u001b[0m\u001b[1;33m)\u001b[0m\u001b[1;33m\u001b[0m\u001b[0m\n\u001b[0m\u001b[1;32m      2\u001b[0m \u001b[0mengine\u001b[0m\u001b[1;33m.\u001b[0m\u001b[0msay\u001b[0m\u001b[1;33m(\u001b[0m\u001b[1;34m\"What you want to say\"\u001b[0m\u001b[1;33m)\u001b[0m\u001b[1;33m\u001b[0m\u001b[0m\n",
      "\u001b[0;32mC:\\Users\\ADMIN\\Anaconda3\\lib\\site-packages\\pyttsx\\__init__.py\u001b[0m in \u001b[0;36minit\u001b[0;34m(driverName, debug)\u001b[0m\n\u001b[1;32m     37\u001b[0m         \u001b[0meng\u001b[0m \u001b[1;33m=\u001b[0m \u001b[0m_activeEngines\u001b[0m\u001b[1;33m[\u001b[0m\u001b[0mdriverName\u001b[0m\u001b[1;33m]\u001b[0m\u001b[1;33m\u001b[0m\u001b[0m\n\u001b[1;32m     38\u001b[0m     \u001b[1;32mexcept\u001b[0m \u001b[0mKeyError\u001b[0m\u001b[1;33m:\u001b[0m\u001b[1;33m\u001b[0m\u001b[0m\n\u001b[0;32m---> 39\u001b[0;31m         \u001b[0meng\u001b[0m \u001b[1;33m=\u001b[0m \u001b[0mEngine\u001b[0m\u001b[1;33m(\u001b[0m\u001b[0mdriverName\u001b[0m\u001b[1;33m,\u001b[0m \u001b[0mdebug\u001b[0m\u001b[1;33m)\u001b[0m\u001b[1;33m\u001b[0m\u001b[0m\n\u001b[0m\u001b[1;32m     40\u001b[0m         \u001b[0m_activeEngines\u001b[0m\u001b[1;33m[\u001b[0m\u001b[0mdriverName\u001b[0m\u001b[1;33m]\u001b[0m \u001b[1;33m=\u001b[0m \u001b[0meng\u001b[0m\u001b[1;33m\u001b[0m\u001b[0m\n\u001b[1;32m     41\u001b[0m     \u001b[1;32mreturn\u001b[0m \u001b[0meng\u001b[0m\u001b[1;33m\u001b[0m\u001b[0m\n",
      "\u001b[0;32mC:\\Users\\ADMIN\\Anaconda3\\lib\\site-packages\\pyttsx\\engine.py\u001b[0m in \u001b[0;36m__init__\u001b[0;34m(self, driverName, debug)\u001b[0m\n\u001b[1;32m     43\u001b[0m         \u001b[1;33m@\u001b[0m\u001b[0mtype\u001b[0m \u001b[0mdebug\u001b[0m\u001b[1;33m:\u001b[0m \u001b[0mbool\u001b[0m\u001b[1;33m\u001b[0m\u001b[0m\n\u001b[1;32m     44\u001b[0m         '''\n\u001b[0;32m---> 45\u001b[0;31m         \u001b[0mself\u001b[0m\u001b[1;33m.\u001b[0m\u001b[0mproxy\u001b[0m \u001b[1;33m=\u001b[0m \u001b[0mdriver\u001b[0m\u001b[1;33m.\u001b[0m\u001b[0mDriverProxy\u001b[0m\u001b[1;33m(\u001b[0m\u001b[0mweakref\u001b[0m\u001b[1;33m.\u001b[0m\u001b[0mproxy\u001b[0m\u001b[1;33m(\u001b[0m\u001b[0mself\u001b[0m\u001b[1;33m)\u001b[0m\u001b[1;33m,\u001b[0m \u001b[0mdriverName\u001b[0m\u001b[1;33m,\u001b[0m \u001b[0mdebug\u001b[0m\u001b[1;33m)\u001b[0m\u001b[1;33m\u001b[0m\u001b[0m\n\u001b[0m\u001b[1;32m     46\u001b[0m         \u001b[1;31m# initialize other vars\u001b[0m\u001b[1;33m\u001b[0m\u001b[1;33m\u001b[0m\u001b[0m\n\u001b[1;32m     47\u001b[0m         \u001b[0mself\u001b[0m\u001b[1;33m.\u001b[0m\u001b[0m_connects\u001b[0m \u001b[1;33m=\u001b[0m \u001b[1;33m{\u001b[0m\u001b[1;33m}\u001b[0m\u001b[1;33m\u001b[0m\u001b[0m\n",
      "\u001b[0;32mC:\\Users\\ADMIN\\Anaconda3\\lib\\site-packages\\pyttsx\\driver.py\u001b[0m in \u001b[0;36m__init__\u001b[0;34m(self, engine, driverName, debug)\u001b[0m\n\u001b[1;32m     62\u001b[0m                 \u001b[0mdriverName\u001b[0m \u001b[1;33m=\u001b[0m \u001b[1;34m'espeak'\u001b[0m\u001b[1;33m\u001b[0m\u001b[0m\n\u001b[1;32m     63\u001b[0m         \u001b[1;31m# import driver module\u001b[0m\u001b[1;33m\u001b[0m\u001b[1;33m\u001b[0m\u001b[0m\n\u001b[0;32m---> 64\u001b[0;31m         \u001b[0mname\u001b[0m \u001b[1;33m=\u001b[0m \u001b[1;34m'drivers.%s'\u001b[0m \u001b[1;33m%\u001b[0m \u001b[0mdriverName\u001b[0m\u001b[1;33m\u001b[0m\u001b[0m\n\u001b[0m\u001b[1;32m     65\u001b[0m         \u001b[0mself\u001b[0m\u001b[1;33m.\u001b[0m\u001b[0m_module\u001b[0m \u001b[1;33m=\u001b[0m \u001b[0m__import__\u001b[0m\u001b[1;33m(\u001b[0m\u001b[0mname\u001b[0m\u001b[1;33m,\u001b[0m \u001b[0mglobals\u001b[0m\u001b[1;33m(\u001b[0m\u001b[1;33m)\u001b[0m\u001b[1;33m,\u001b[0m \u001b[0mlocals\u001b[0m\u001b[1;33m(\u001b[0m\u001b[1;33m)\u001b[0m\u001b[1;33m,\u001b[0m \u001b[1;33m[\u001b[0m\u001b[0mdriverName\u001b[0m\u001b[1;33m]\u001b[0m\u001b[1;33m)\u001b[0m\u001b[1;33m\u001b[0m\u001b[0m\n\u001b[1;32m     66\u001b[0m         \u001b[1;31m# build driver instance\u001b[0m\u001b[1;33m\u001b[0m\u001b[1;33m\u001b[0m\u001b[0m\n",
      "\u001b[0;31mModuleNotFoundError\u001b[0m: No module named 'drivers'"
     ]
    }
   ],
   "source": [
    "engine = pyttsx.init()\n",
    "engine.say(\"What you want to say\")\n"
   ]
  },
  {
   "cell_type": "code",
   "execution_count": 32,
   "metadata": {
    "collapsed": true
   },
   "outputs": [],
   "source": [
    "import sys"
   ]
  },
  {
   "cell_type": "code",
   "execution_count": 33,
   "metadata": {
    "collapsed": false
   },
   "outputs": [
    {
     "name": "stdout",
     "output_type": "stream",
     "text": [
      "win32\n"
     ]
    }
   ],
   "source": [
    "print (sys.platform)"
   ]
  },
  {
   "cell_type": "code",
   "execution_count": 36,
   "metadata": {
    "collapsed": false
   },
   "outputs": [
    {
     "ename": "ModuleNotFoundError",
     "evalue": "No module named '__main__.voice'; '__main__' is not a package",
     "output_type": "error",
     "traceback": [
      "\u001b[0;31m---------------------------------------------------------------------------\u001b[0m",
      "\u001b[0;31mModuleNotFoundError\u001b[0m                       Traceback (most recent call last)",
      "\u001b[0;32m<ipython-input-36-1227d1bcd33d>\u001b[0m in \u001b[0;36m<module>\u001b[0;34m()\u001b[0m\n\u001b[1;32m     22\u001b[0m \u001b[1;32mimport\u001b[0m \u001b[0mmath\u001b[0m\u001b[1;33m\u001b[0m\u001b[0m\n\u001b[1;32m     23\u001b[0m \u001b[1;32mimport\u001b[0m \u001b[0mweakref\u001b[0m\u001b[1;33m\u001b[0m\u001b[0m\n\u001b[0;32m---> 24\u001b[0;31m \u001b[1;32mfrom\u001b[0m \u001b[1;33m.\u001b[0m\u001b[0mvoice\u001b[0m \u001b[1;32mimport\u001b[0m \u001b[0mVoice\u001b[0m\u001b[1;33m\u001b[0m\u001b[0m\n\u001b[0m\u001b[1;32m     25\u001b[0m \u001b[1;33m\u001b[0m\u001b[0m\n\u001b[1;32m     26\u001b[0m \u001b[1;31m# common voices\u001b[0m\u001b[1;33m\u001b[0m\u001b[1;33m\u001b[0m\u001b[0m\n",
      "\u001b[0;31mModuleNotFoundError\u001b[0m: No module named '__main__.voice'; '__main__' is not a package"
     ]
    }
   ],
   "source": [
    "'''\n",
    "SAPI 5+ driver.\n",
    "\n",
    "Copyright (c) 2009, 2013 Peter Parente\n",
    "\n",
    "Permission to use, copy, modify, and distribute this software for any\n",
    "purpose with or without fee is hereby granted, provided that the above\n",
    "copyright notice and this permission notice appear in all copies.\n",
    "\n",
    "THE SOFTWARE IS PROVIDED \"AS IS\" AND THE AUTHOR DISCLAIMS ALL WARRANTIES\n",
    "WITH REGARD TO THIS SOFTWARE INCLUDING ALL IMPLIED WARRANTIES OF\n",
    "MERCHANTABILITY AND FITNESS. IN NO EVENT SHALL THE AUTHOR BE LIABLE FOR\n",
    "ANY SPECIAL, DIRECT, INDIRECT, OR CONSEQUENTIAL DAMAGES OR ANY DAMAGES\n",
    "WHATSOEVER RESULTING FROM LOSS OF USE, DATA OR PROFITS, WHETHER IN AN\n",
    "ACTION OF CONTRACT, NEGLIGENCE OR OTHER TORTIOUS ACTION, ARISING OUT OF\n",
    "OR IN CONNECTION WITH THE USE OR PERFORMANCE OF THIS SOFTWARE.\n",
    "'''\n",
    "#import comtypes.client\n",
    "import win32com.client\n",
    "import pythoncom\n",
    "import time\n",
    "import math\n",
    "import weakref\n",
    "from .voice import Voice\n",
    "\n",
    "# common voices\n",
    "MSSAM = 'HKEY_LOCAL_MACHINE\\\\SOFTWARE\\\\Microsoft\\\\Speech\\\\Voices\\\\Tokens\\\\MSSam'\n",
    "MSMARY = 'HKEY_LOCAL_MACHINE\\\\SOFTWARE\\\\Microsoft\\\\Speech\\\\Voices\\\\Tokens\\\\MSMary'\n",
    "MSMIKE = 'HKEY_LOCAL_MACHINE\\\\SOFTWARE\\\\Microsoft\\\\Speech\\\\Voices\\\\Tokens\\\\MSMike'\n",
    "\n",
    "# coeffs for wpm conversion\n",
    "E_REG = {MSSAM : (137.89, 1.11),\n",
    "         MSMARY : (156.63, 1.11),\n",
    "         MSMIKE : (154.37, 1.11)}\n",
    "\n",
    "def buildDriver(proxy):\n",
    "    return SAPI5Driver(proxy)\n",
    "\n",
    "class SAPI5Driver(object):\n",
    "    def __init__(self, proxy):\n",
    "        self._tts = win32com.client.Dispatch('SAPI.SPVoice')\n",
    "        #self._tts = comtypes.client.CreateObject('SAPI.SPVoice')\n",
    "        # all events\n",
    "        self._tts.EventInterests = 33790\n",
    "        self._advise = win32com.client.WithEvents(self._tts,\n",
    "            SAPI5DriverEventSink)\n",
    "        self._advise.setDriver(weakref.proxy(self))\n",
    "        #self._debug = comtypes.client.ShowEvents(self._tts)\n",
    "        #self._advise = comtypes.client.GetEvents(self._tts, self)\n",
    "        self._proxy = proxy\n",
    "        self._looping = False\n",
    "        self._speaking = False\n",
    "        self._stopping = False\n",
    "        # initial rate\n",
    "        self._rateWpm = 200\n",
    "        self.setProperty('voice', self.getProperty('voice'))\n",
    "\n",
    "    def destroy(self):\n",
    "        self._tts.EventInterests = 0\n",
    "\n",
    "    def say(self, text):\n",
    "        self._proxy.setBusy(True)\n",
    "        self._proxy.notify('started-utterance')\n",
    "        self._speaking = True\n",
    "        self._tts.Speak(unicode(text), 19)\n",
    "\n",
    "    def stop(self):\n",
    "        if not self._speaking:\n",
    "            return\n",
    "        self._proxy.setBusy(True)\n",
    "        self._stopping = True\n",
    "        self._tts.Speak('', 3)\n",
    "\n",
    "    def _toVoice(self, attr):\n",
    "        return Voice(attr.Id, attr.GetDescription())\n",
    "\n",
    "    def _tokenFromId(self, id):\n",
    "        tokens = self._tts.GetVoices()\n",
    "        for token in tokens:\n",
    "            if token.Id == id: return token\n",
    "        raise ValueError('unknown voice id %s', id)\n",
    "\n",
    "    def getProperty(self, name):\n",
    "        if name == 'voices':\n",
    "            return [self._toVoice(attr) for attr in self._tts.GetVoices()]\n",
    "        elif name == 'voice':\n",
    "            return self._tts.Voice.Id\n",
    "        elif name == 'rate':\n",
    "            return self._rateWpm\n",
    "        elif name == 'volume':\n",
    "            return self._tts.Volume/100.0\n",
    "        else:\n",
    "            raise KeyError('unknown property %s' % name)\n",
    "\n",
    "    def setProperty(self, name, value):\n",
    "        if name == 'voice':\n",
    "            token = self._tokenFromId(value)\n",
    "            self._tts.Voice = token\n",
    "            a, b = E_REG.get(value, E_REG[MSMARY])\n",
    "            self._tts.Rate = int(math.log(self._rateWpm/a, b))\n",
    "        elif name == 'rate':\n",
    "            id = self._tts.Voice.Id\n",
    "            a, b = E_REG.get(id, E_REG[MSMARY])\n",
    "            try:\n",
    "                self._tts.Rate = int(math.log(value/a, b))\n",
    "            except TypeError as e:\n",
    "                raise ValueError(str(e))\n",
    "            self._rateWpm = value\n",
    "        elif name == 'volume':\n",
    "            try:\n",
    "                self._tts.Volume = int(round(value*100, 2))\n",
    "            except TypeError as e:\n",
    "                raise ValueError(str(e))\n",
    "        else:\n",
    "            raise KeyError('unknown property %s' % name)\n",
    "\n",
    "    def startLoop(self):\n",
    "        first = True\n",
    "        self._looping = True\n",
    "        while self._looping:\n",
    "            if first:\n",
    "                self._proxy.setBusy(False)\n",
    "                first = False\n",
    "            pythoncom.PumpWaitingMessages()\n",
    "            time.sleep(0.05)\n",
    "\n",
    "    def endLoop(self):\n",
    "        self._looping = False\n",
    "\n",
    "    def iterate(self):\n",
    "        self._proxy.setBusy(False)\n",
    "        while 1:\n",
    "            pythoncom.PumpWaitingMessages()\n",
    "            yield\n",
    "\n",
    "class SAPI5DriverEventSink(object):\n",
    "    def __init__(self):\n",
    "        self._driver = None\n",
    "\n",
    "    def setDriver(self, driver):\n",
    "        self._driver = driver\n",
    "\n",
    "    def OnWord(self, stream, pos, char, length):\n",
    "        self._driver._proxy.notify('started-word', location=char, length=length)\n",
    "\n",
    "    def OnEndStream(self, stream, pos):\n",
    "        d = self._driver\n",
    "        if d._speaking:\n",
    "            d._proxy.notify('finished-utterance', completed=not d._stopping)\n",
    "        d._speaking = False\n",
    "        d._stopping = False\n",
    "        d._proxy.setBusy(False)"
   ]
  },
  {
   "cell_type": "code",
   "execution_count": null,
   "metadata": {
    "collapsed": true
   },
   "outputs": [],
   "source": []
  }
 ],
 "metadata": {
  "kernelspec": {
   "display_name": "Python 3",
   "language": "python",
   "name": "python3"
  },
  "language_info": {
   "codemirror_mode": {
    "name": "ipython",
    "version": 3
   },
   "file_extension": ".py",
   "mimetype": "text/x-python",
   "name": "python",
   "nbconvert_exporter": "python",
   "pygments_lexer": "ipython3",
   "version": "3.6.0"
  }
 },
 "nbformat": 4,
 "nbformat_minor": 2
}
